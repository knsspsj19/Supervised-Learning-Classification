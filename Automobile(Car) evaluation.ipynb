{
 "cells": [
  {
   "cell_type": "markdown",
   "metadata": {
    "colab_type": "text",
    "id": "ci1pFlXLsHfH"
   },
   "source": [
    "# SLC FINAL EXAM"
   ]
  },
  {
   "cell_type": "markdown",
   "metadata": {
    "colab_type": "text",
    "id": "se7NwtOXsHfI"
   },
   "source": [
    "### DATA DESCRIPTION: \n",
    "\n",
    "\n",
    " \n",
    "Car Evaluation Database was derived from a simple hierarchical decision model originally developed for the demonstration of DEX, M. Bohanec, V. Rajkovic: Expert system for decision making. Sistemica 1(1), pp. 145157, 1990.). The model evaluates cars according to the following concept structure: \n",
    " \n",
    "CAR car acceptability \n",
    "\n",
    ". PRICE overall price \n",
    "\n",
    ". . buying buying price \n",
    "\n",
    ". . maint price of the maintenance \n",
    "\n",
    ". TECH technical characteristics \n",
    "\n",
    ". . COMFORT comfort \n",
    "\n",
    ". . . doors number of doors \n",
    "\n",
    ". . . persons capacity in terms of persons to carry \n",
    "\n",
    ". . . lug_boot the size of luggage boot \n",
    "\n",
    ". . safety estimated safety of the car \n",
    " \n",
    "Input attributes are printed in lowercase. Besides the target concept (CAR), the model includes three intermediate concepts: PRICE, TECH, COMFORT. Every concept is in the original model related to its lower level descendants by a set of examples \n",
    "\n",
    "ATTRIBUTE INFORMATION: \n",
    "\n",
    "Class Values: unacc, acc, good, vgood \n",
    " \n",
    "Attributes: \n",
    " \n",
    "buying: vhigh, high, med, low. \n",
    "\n",
    "maint: vhigh, high, med, low. \n",
    "\n",
    "doors: 2, 3, 4, 5more. \n",
    "\n",
    "persons: 2, 4, more. \n",
    "\n",
    "lug_boot: small, med, big. \n",
    "\n",
    "safety: low, med, high. "
   ]
  },
  {
   "cell_type": "markdown",
   "metadata": {
    "colab_type": "text",
    "id": "wZVv67G5sHfK"
   },
   "source": [
    "### 1.\tRead the dataset (tab, csv, xls, txt, inbuilt dataset)"
   ]
  },
  {
   "cell_type": "code",
   "execution_count": 1,
   "metadata": {
    "colab": {},
    "colab_type": "code",
    "id": "0xRueviLlY72"
   },
   "outputs": [],
   "source": [
    "# Kindly change the below cells from markdown to code and execute it "
   ]
  },
  {
   "cell_type": "code",
   "execution_count": 2,
   "metadata": {
    "colab_type": "text",
    "id": "O_tINAIolY77"
   },
   "outputs": [
    {
     "data": {
      "text/html": [
       "<div>\n",
       "<style scoped>\n",
       "    .dataframe tbody tr th:only-of-type {\n",
       "        vertical-align: middle;\n",
       "    }\n",
       "\n",
       "    .dataframe tbody tr th {\n",
       "        vertical-align: top;\n",
       "    }\n",
       "\n",
       "    .dataframe thead th {\n",
       "        text-align: right;\n",
       "    }\n",
       "</style>\n",
       "<table border=\"1\" class=\"dataframe\">\n",
       "  <thead>\n",
       "    <tr style=\"text-align: right;\">\n",
       "      <th></th>\n",
       "      <th>Buying</th>\n",
       "      <th>Maint</th>\n",
       "      <th>Doors</th>\n",
       "      <th>Persons</th>\n",
       "      <th>Lug_boot</th>\n",
       "      <th>Safety</th>\n",
       "      <th>Class Values</th>\n",
       "    </tr>\n",
       "  </thead>\n",
       "  <tbody>\n",
       "    <tr>\n",
       "      <th>0</th>\n",
       "      <td>vhigh</td>\n",
       "      <td>vhigh</td>\n",
       "      <td>2</td>\n",
       "      <td>2</td>\n",
       "      <td>small</td>\n",
       "      <td>low</td>\n",
       "      <td>unacc</td>\n",
       "    </tr>\n",
       "    <tr>\n",
       "      <th>1</th>\n",
       "      <td>vhigh</td>\n",
       "      <td>vhigh</td>\n",
       "      <td>2</td>\n",
       "      <td>2</td>\n",
       "      <td>small</td>\n",
       "      <td>med</td>\n",
       "      <td>unacc</td>\n",
       "    </tr>\n",
       "    <tr>\n",
       "      <th>2</th>\n",
       "      <td>vhigh</td>\n",
       "      <td>vhigh</td>\n",
       "      <td>2</td>\n",
       "      <td>2</td>\n",
       "      <td>small</td>\n",
       "      <td>high</td>\n",
       "      <td>unacc</td>\n",
       "    </tr>\n",
       "    <tr>\n",
       "      <th>3</th>\n",
       "      <td>vhigh</td>\n",
       "      <td>vhigh</td>\n",
       "      <td>2</td>\n",
       "      <td>2</td>\n",
       "      <td>med</td>\n",
       "      <td>low</td>\n",
       "      <td>unacc</td>\n",
       "    </tr>\n",
       "    <tr>\n",
       "      <th>4</th>\n",
       "      <td>vhigh</td>\n",
       "      <td>vhigh</td>\n",
       "      <td>2</td>\n",
       "      <td>2</td>\n",
       "      <td>med</td>\n",
       "      <td>med</td>\n",
       "      <td>unacc</td>\n",
       "    </tr>\n",
       "  </tbody>\n",
       "</table>\n",
       "</div>"
      ],
      "text/plain": [
       "  Buying  Maint Doors Persons Lug_boot Safety Class Values\n",
       "0  vhigh  vhigh     2       2    small    low        unacc\n",
       "1  vhigh  vhigh     2       2    small    med        unacc\n",
       "2  vhigh  vhigh     2       2    small   high        unacc\n",
       "3  vhigh  vhigh     2       2      med    low        unacc\n",
       "4  vhigh  vhigh     2       2      med    med        unacc"
      ]
     },
     "execution_count": 2,
     "metadata": {},
     "output_type": "execute_result"
    }
   ],
   "source": [
    "import csv\n",
    "import pandas as pd\n",
    "\n",
    "with open(\"data_set.csv\",\"r\")as file:\n",
    "    \n",
    "    reader=csv.reader(file)\n",
    "    \n",
    "df=pd.read_csv(\"data_set.csv\",header=None,names=[\"Buying\",\"Maint\",\"Doors\",\"Persons\",\"Lug_boot\",\"Safety\",\"Class Values\"])\n",
    "\n",
    "df.head()\n"
   ]
  },
  {
   "cell_type": "code",
   "execution_count": 3,
   "metadata": {
    "colab": {},
    "colab_type": "code",
    "id": "QmOpYdqCsHfT"
   },
   "outputs": [
    {
     "data": {
      "text/html": [
       "<div>\n",
       "<style scoped>\n",
       "    .dataframe tbody tr th:only-of-type {\n",
       "        vertical-align: middle;\n",
       "    }\n",
       "\n",
       "    .dataframe tbody tr th {\n",
       "        vertical-align: top;\n",
       "    }\n",
       "\n",
       "    .dataframe thead th {\n",
       "        text-align: right;\n",
       "    }\n",
       "</style>\n",
       "<table border=\"1\" class=\"dataframe\">\n",
       "  <thead>\n",
       "    <tr style=\"text-align: right;\">\n",
       "      <th></th>\n",
       "      <th>Buying</th>\n",
       "      <th>Maint</th>\n",
       "      <th>Doors</th>\n",
       "      <th>Persons</th>\n",
       "      <th>Lug_boot</th>\n",
       "      <th>Safety</th>\n",
       "      <th>Class Values</th>\n",
       "    </tr>\n",
       "  </thead>\n",
       "  <tbody>\n",
       "    <tr>\n",
       "      <th>0</th>\n",
       "      <td>vhigh</td>\n",
       "      <td>vhigh</td>\n",
       "      <td>2</td>\n",
       "      <td>2</td>\n",
       "      <td>small</td>\n",
       "      <td>low</td>\n",
       "      <td>unacc</td>\n",
       "    </tr>\n",
       "    <tr>\n",
       "      <th>1</th>\n",
       "      <td>vhigh</td>\n",
       "      <td>vhigh</td>\n",
       "      <td>2</td>\n",
       "      <td>2</td>\n",
       "      <td>small</td>\n",
       "      <td>med</td>\n",
       "      <td>unacc</td>\n",
       "    </tr>\n",
       "    <tr>\n",
       "      <th>2</th>\n",
       "      <td>vhigh</td>\n",
       "      <td>vhigh</td>\n",
       "      <td>2</td>\n",
       "      <td>2</td>\n",
       "      <td>small</td>\n",
       "      <td>high</td>\n",
       "      <td>unacc</td>\n",
       "    </tr>\n",
       "    <tr>\n",
       "      <th>3</th>\n",
       "      <td>vhigh</td>\n",
       "      <td>vhigh</td>\n",
       "      <td>2</td>\n",
       "      <td>2</td>\n",
       "      <td>med</td>\n",
       "      <td>low</td>\n",
       "      <td>unacc</td>\n",
       "    </tr>\n",
       "    <tr>\n",
       "      <th>4</th>\n",
       "      <td>vhigh</td>\n",
       "      <td>vhigh</td>\n",
       "      <td>2</td>\n",
       "      <td>2</td>\n",
       "      <td>med</td>\n",
       "      <td>med</td>\n",
       "      <td>unacc</td>\n",
       "    </tr>\n",
       "  </tbody>\n",
       "</table>\n",
       "</div>"
      ],
      "text/plain": [
       "  Buying  Maint Doors Persons Lug_boot Safety Class Values\n",
       "0  vhigh  vhigh     2       2    small    low        unacc\n",
       "1  vhigh  vhigh     2       2    small    med        unacc\n",
       "2  vhigh  vhigh     2       2    small   high        unacc\n",
       "3  vhigh  vhigh     2       2      med    low        unacc\n",
       "4  vhigh  vhigh     2       2      med    med        unacc"
      ]
     },
     "execution_count": 3,
     "metadata": {},
     "output_type": "execute_result"
    }
   ],
   "source": [
    "df.head()\n"
   ]
  },
  {
   "cell_type": "markdown",
   "metadata": {
    "colab_type": "text",
    "id": "0GVcwqONsHfZ"
   },
   "source": [
    "### 2.\tSummarize important observations from the data set (5 Marks)\n",
    "\n",
    "Some pointers which would help you, but don’t be limited by these\n",
    "\n",
    "a.\tFind out number of rows; no. & types of variables (continuous, categorical etc.)\n",
    "\n",
    "b.\tCalculate five-point summary for numerical variables\n",
    "\n",
    "c.\tSummarize observations for categorical variables – no. of categories, % observations in each category\n"
   ]
  },
  {
   "cell_type": "code",
   "execution_count": 4,
   "metadata": {
    "colab": {},
    "colab_type": "code",
    "id": "hwWxRR66sHfa"
   },
   "outputs": [
    {
     "name": "stdout",
     "output_type": "stream",
     "text": [
      "<class 'pandas.core.frame.DataFrame'>\n",
      "RangeIndex: 1728 entries, 0 to 1727\n",
      "Data columns (total 7 columns):\n",
      "Buying          1728 non-null object\n",
      "Maint           1728 non-null object\n",
      "Doors           1728 non-null object\n",
      "Persons         1728 non-null object\n",
      "Lug_boot        1728 non-null object\n",
      "Safety          1728 non-null object\n",
      "Class Values    1728 non-null object\n",
      "dtypes: object(7)\n",
      "memory usage: 94.6+ KB\n"
     ]
    }
   ],
   "source": [
    "#a\n",
    "df.shape\n",
    "df.info()   # All object though doors and persons have numeric values they can still be treated as categorical\n",
    "\n",
    "#b \n",
    "df[\"Doors\"].value_counts()\n",
    "#We can replace string values in persons and door columns by a number,\n",
    "#that might most approximately capture the true range of values\n",
    "\n",
    "def door(i):\n",
    "    if i==\"5more\":\n",
    "        return 6\n",
    "    else:\n",
    "        return i\n",
    "    \n",
    "df[\"Doors\"]=df[\"Doors\"].apply(door)\n",
    "\n"
   ]
  },
  {
   "cell_type": "code",
   "execution_count": 5,
   "metadata": {},
   "outputs": [],
   "source": [
    "df[\"Persons\"].value_counts()\n",
    "def per(i):\n",
    "    if i==\"more\":\n",
    "        return 6\n",
    "    else:\n",
    "        return i\n",
    "    \n",
    "df[\"Persons\"]=df[\"Persons\"].apply(per)"
   ]
  },
  {
   "cell_type": "code",
   "execution_count": 6,
   "metadata": {},
   "outputs": [
    {
     "data": {
      "text/plain": [
       "<matplotlib.axes._subplots.AxesSubplot at 0x7fbee4894b70>"
      ]
     },
     "metadata": {},
     "output_type": "display_data"
    },
    {
     "data": {
      "text/plain": [
       "<matplotlib.axes._subplots.AxesSubplot at 0x7fbee4894b70>"
      ]
     },
     "metadata": {},
     "output_type": "display_data"
    }
   ],
   "source": [
    "import seaborn as sns\n",
    "display(sns.boxplot(df[\"Persons\"].astype(int)))\n",
    "display(sns.boxplot(df[\"Doors\"].astype(int)))"
   ]
  },
  {
   "cell_type": "code",
   "execution_count": 7,
   "metadata": {},
   "outputs": [
    {
     "name": "stdout",
     "output_type": "stream",
     "text": [
      "Buying med      432\n",
      "high     432\n",
      "low      432\n",
      "vhigh    432\n",
      "Name: Buying, dtype: int64\n",
      "Maint med      432\n",
      "high     432\n",
      "low      432\n",
      "vhigh    432\n",
      "Name: Maint, dtype: int64\n",
      "Doors 4    432\n",
      "2    432\n",
      "3    432\n",
      "6    432\n",
      "Name: Doors, dtype: int64\n",
      "Persons 4    576\n",
      "2    576\n",
      "6    576\n",
      "Name: Persons, dtype: int64\n",
      "Lug_boot small    576\n",
      "big      576\n",
      "med      576\n",
      "Name: Lug_boot, dtype: int64\n",
      "Safety med     576\n",
      "high    576\n",
      "low     576\n",
      "Name: Safety, dtype: int64\n",
      "Class Values unacc    1210\n",
      "acc       384\n",
      "good       69\n",
      "vgood      65\n",
      "Name: Class Values, dtype: int64\n"
     ]
    }
   ],
   "source": [
    "#c\n",
    "df.nunique() #Categories in different columns\n",
    "for i in df.columns:\n",
    "    print(i,df[i].value_counts())\n",
    "    \n",
    "#In all columns except the target column(class values) the categories are equally distributed"
   ]
  },
  {
   "cell_type": "markdown",
   "metadata": {
    "colab_type": "text",
    "id": "VcpSEkSdsHfg"
   },
   "source": [
    "### 3.\tCheck for defects in the data. Perform necessary actions to ‘fix’ these defects (5 Marks)\n",
    "\n",
    "Some pointers which would help you, but don’t be limited by these\n",
    "\n",
    "a.\tDo variables have missing/null values?\n",
    "\n",
    "b.\tDo variables have outliers?\n",
    "\n",
    "c.\tIs the Target distributed evenly? Is it a defect? If Yes, what steps are being taken to rectify the problem. \n"
   ]
  },
  {
   "cell_type": "code",
   "execution_count": 8,
   "metadata": {
    "colab": {},
    "colab_type": "code",
    "id": "f9hegpoGsHfh"
   },
   "outputs": [
    {
     "data": {
      "text/plain": [
       "0    1210\n",
       "1     518\n",
       "Name: Class Values, dtype: int64"
      ]
     },
     "execution_count": 8,
     "metadata": {},
     "output_type": "execute_result"
    }
   ],
   "source": [
    "#a\n",
    "df.isnull().sum() #No missing values\n",
    "\n",
    "# b Since all the variables are categorical the question of outliers doesnt arise\n",
    "\n",
    "#c\n",
    "df[\"Class Values\"].value_counts()\n",
    "#The target variable has multiple classes \n",
    "#with highest data coming from unacc category\n",
    "#So there is data imbalance\n",
    "\n",
    "# For convenience, we can convert this multi class classification to binomial classification\n",
    "# We can roughly distribute values into two categories 0(unacceptable category) and 1(all other i.e. acceptable categories)\n",
    "\n",
    "def tgt(i):\n",
    "    if i==\"unacc\":\n",
    "        return 0\n",
    "    else:\n",
    "        return 1\n",
    "    \n",
    "df[\"Class Values\"]=df[\"Class Values\"].apply(tgt)\n",
    "df[\"Class Values\"].value_counts()\n",
    "\n",
    "#As we can see 0 class is more abundant than 1 class\n",
    "#We can use SMOTE to upsample the minority class to check the data imbalance"
   ]
  },
  {
   "cell_type": "code",
   "execution_count": null,
   "metadata": {},
   "outputs": [],
   "source": []
  },
  {
   "cell_type": "markdown",
   "metadata": {
    "colab_type": "text",
    "id": "knh0Dr3-sHfn"
   },
   "source": [
    "### 4.\tSummarize relationships among variables (10 marks)               \n",
    "a.\tPlot relevant categorical plots. Find out which are the variables most correlated or appear to be in causation with Target? Do you want to exclude some variables from the model based on this analysis? What other actions will you take?\n",
    "\n",
    "\n",
    "b.\tPlot all independent variables with the target & find out the relationship? Perform the Relevant Tests to find out if the Independent variables are associated with the Target Variable.\n",
    "\n",
    " Hint: based on your observations you may want to transform features or create additional features.\n"
   ]
  },
  {
   "cell_type": "code",
   "execution_count": 9,
   "metadata": {
    "colab": {},
    "colab_type": "code",
    "id": "w0gNF69-sHfo"
   },
   "outputs": [
    {
     "data": {
      "text/plain": [
       "<Figure size 432x288 with 0 Axes>"
      ]
     },
     "metadata": {},
     "output_type": "display_data"
    },
    {
     "data": {
      "image/png": "[encoded data removed]",
      "text/plain": [
       "<Figure size 432x288 with 1 Axes>"
      ]
     },
     "metadata": {
      "needs_background": "light"
     },
     "output_type": "display_data"
    },
    {
     "data": {
      "text/plain": [
       "<Figure size 432x288 with 0 Axes>"
      ]
     },
     "metadata": {},
     "output_type": "display_data"
    },
    {
     "data": {
      "image/png": "[encoded data removed]",
      "text/plain": [
       "<Figure size 432x288 with 1 Axes>"
      ]
     },
     "metadata": {
      "needs_background": "light"
     },
     "output_type": "display_data"
    },
    {
     "data": {
      "text/plain": [
       "<Figure size 432x288 with 0 Axes>"
      ]
     },
     "metadata": {},
     "output_type": "display_data"
    },
    {
     "data": {
      "image/png": "[encoded data removed]",
      "text/plain": [
       "<Figure size 432x288 with 1 Axes>"
      ]
     },
     "metadata": {
      "needs_background": "light"
     },
     "output_type": "display_data"
    },
    {
     "data": {
      "text/plain": [
       "<Figure size 432x288 with 0 Axes>"
      ]
     },
     "metadata": {},
     "output_type": "display_data"
    },
    {
     "data": {
      "image/png": "[encoded data removed]",
      "text/plain": [
       "<Figure size 432x288 with 1 Axes>"
      ]
     },
     "metadata": {
      "needs_background": "light"
     },
     "output_type": "display_data"
    },
    {
     "data": {
      "text/plain": [
       "<Figure size 432x288 with 0 Axes>"
      ]
     },
     "metadata": {},
     "output_type": "display_data"
    },
    {
     "data": {
      "image/png": "[encoded data removed]",
      "text/plain": [
       "<Figure size 432x288 with 1 Axes>"
      ]
     },
     "metadata": {
      "needs_background": "light"
     },
     "output_type": "display_data"
    },
    {
     "data": {
      "text/plain": [
       "<Figure size 432x288 with 0 Axes>"
      ]
     },
     "metadata": {},
     "output_type": "display_data"
    },
    {
     "data": {
      "image/png": "[encoded data removed]",
      "text/plain": [
       "<Figure size 432x288 with 1 Axes>"
      ]
     },
     "metadata": {
      "needs_background": "light"
     },
     "output_type": "display_data"
    }
   ],
   "source": [
    "#a\n",
    "import matplotlib.pyplot as plt\n",
    "for i in df.drop(\"Class Values\",axis=1).columns:\n",
    "    plt.tight_layout()\n",
    "    pd.crosstab(df[i],df[\"Class Values\"]).plot(kind=\"bar\")\n",
    "    plt.show()\n",
    "    \n",
    "# Cars with high or very high buying prices  and mainitenance have low acceptability\n",
    "#Acceptability for cars having 2 doors is the least\n",
    "#For a car to be acceptable it must be able to accomodate atleast 4 or more people\n",
    "#Car acceptability increases with lug_boot size\n",
    "#For a car to be acceptable, it must have medium to high safety level"
   ]
  },
  {
   "cell_type": "code",
   "execution_count": 10,
   "metadata": {},
   "outputs": [],
   "source": [
    "df.head()\n",
    "df[\"Buying\"].value_counts()\n",
    "def buy(i):\n",
    "    if i==\"low\":\n",
    "        return 0\n",
    "    elif i==\"med\":\n",
    "        return 1\n",
    "    elif i==\"high\":\n",
    "        return 2\n",
    "    else:\n",
    "        return 3\n",
    "    \n",
    "df[\"Buying\"]=df[\"Buying\"].apply(buy)"
   ]
  },
  {
   "cell_type": "code",
   "execution_count": 11,
   "metadata": {},
   "outputs": [],
   "source": [
    "df[\"Maint\"]=df[\"Maint\"].apply(buy)"
   ]
  },
  {
   "cell_type": "code",
   "execution_count": 12,
   "metadata": {},
   "outputs": [],
   "source": [
    "df[\"Safety\"].value_counts()\n",
    "def saf(i):\n",
    "    if i==\"low\":\n",
    "        return 0\n",
    "    elif i==\"med\":\n",
    "        return 1\n",
    "    else:\n",
    "        return 2\n",
    "    \n",
    "df[\"Safety\"]=df[\"Safety\"].apply(saf)\n"
   ]
  },
  {
   "cell_type": "code",
   "execution_count": 13,
   "metadata": {},
   "outputs": [],
   "source": [
    "df[\"Lug_boot\"].value_counts()\n",
    "def lug(i):\n",
    "    if i==\"small\":\n",
    "        return 0\n",
    "    elif i==\"med\":\n",
    "        return 1\n",
    "    else:\n",
    "        return 2\n",
    "    \n",
    "df[\"Lug_boot\"]=df[\"Lug_boot\"].apply(lug)"
   ]
  },
  {
   "cell_type": "code",
   "execution_count": 14,
   "metadata": {},
   "outputs": [
    {
     "data": {
      "text/html": [
       "<div>\n",
       "<style scoped>\n",
       "    .dataframe tbody tr th:only-of-type {\n",
       "        vertical-align: middle;\n",
       "    }\n",
       "\n",
       "    .dataframe tbody tr th {\n",
       "        vertical-align: top;\n",
       "    }\n",
       "\n",
       "    .dataframe thead th {\n",
       "        text-align: right;\n",
       "    }\n",
       "</style>\n",
       "<table border=\"1\" class=\"dataframe\">\n",
       "  <thead>\n",
       "    <tr style=\"text-align: right;\">\n",
       "      <th></th>\n",
       "      <th>Buying</th>\n",
       "      <th>Maint</th>\n",
       "      <th>Doors</th>\n",
       "      <th>Persons</th>\n",
       "      <th>Lug_boot</th>\n",
       "      <th>Safety</th>\n",
       "      <th>Class Values</th>\n",
       "    </tr>\n",
       "  </thead>\n",
       "  <tbody>\n",
       "    <tr>\n",
       "      <th>0</th>\n",
       "      <td>3</td>\n",
       "      <td>3</td>\n",
       "      <td>2</td>\n",
       "      <td>2</td>\n",
       "      <td>0</td>\n",
       "      <td>0</td>\n",
       "      <td>0</td>\n",
       "    </tr>\n",
       "    <tr>\n",
       "      <th>1</th>\n",
       "      <td>3</td>\n",
       "      <td>3</td>\n",
       "      <td>2</td>\n",
       "      <td>2</td>\n",
       "      <td>0</td>\n",
       "      <td>1</td>\n",
       "      <td>0</td>\n",
       "    </tr>\n",
       "    <tr>\n",
       "      <th>2</th>\n",
       "      <td>3</td>\n",
       "      <td>3</td>\n",
       "      <td>2</td>\n",
       "      <td>2</td>\n",
       "      <td>0</td>\n",
       "      <td>2</td>\n",
       "      <td>0</td>\n",
       "    </tr>\n",
       "    <tr>\n",
       "      <th>3</th>\n",
       "      <td>3</td>\n",
       "      <td>3</td>\n",
       "      <td>2</td>\n",
       "      <td>2</td>\n",
       "      <td>1</td>\n",
       "      <td>0</td>\n",
       "      <td>0</td>\n",
       "    </tr>\n",
       "    <tr>\n",
       "      <th>4</th>\n",
       "      <td>3</td>\n",
       "      <td>3</td>\n",
       "      <td>2</td>\n",
       "      <td>2</td>\n",
       "      <td>1</td>\n",
       "      <td>1</td>\n",
       "      <td>0</td>\n",
       "    </tr>\n",
       "  </tbody>\n",
       "</table>\n",
       "</div>"
      ],
      "text/plain": [
       "   Buying  Maint Doors Persons  Lug_boot  Safety  Class Values\n",
       "0       3      3     2       2         0       0             0\n",
       "1       3      3     2       2         0       1             0\n",
       "2       3      3     2       2         0       2             0\n",
       "3       3      3     2       2         1       0             0\n",
       "4       3      3     2       2         1       1             0"
      ]
     },
     "execution_count": 14,
     "metadata": {},
     "output_type": "execute_result"
    }
   ],
   "source": [
    "df.head()"
   ]
  },
  {
   "cell_type": "code",
   "execution_count": 31,
   "metadata": {},
   "outputs": [
    {
     "name": "stdout",
     "output_type": "stream",
     "text": [
      "Reject the null Hypothesis. target is dependent on Buying\n",
      "Reject the null Hypothesis. target is dependent on Maint\n",
      "Reject the null Hypothesis. target is dependent on Doors\n",
      "Reject the null Hypothesis. target is dependent on Persons\n",
      "Reject the null Hypothesis. target is dependent on Lug_boot\n",
      "Reject the null Hypothesis. target is dependent on Safety\n"
     ]
    }
   ],
   "source": [
    "#b\n",
    "#H0: Both colums are independent\n",
    "#H1: Both columns are dependent\n",
    "from scipy.stats import chi2_contingency\n",
    "\n",
    "for i in df.drop(\"Class Values\",axis=1).columns:\n",
    "    tbl=pd.crosstab(df[i],df[\"Class Values\"])\n",
    "    stat,pval,dof,exp=chi2_contingency(tbl)\n",
    "    if pval<0.05:\n",
    "        print(\"Reject the null Hypothesis. target is dependent on\",i)\n",
    "    else:\n",
    "        print(\"Fail to reject the null Hypothesis. target is NOT dependent on\",i)\n",
    "\n",
    "#As we can see, all the columns are have relation with the target that is statistically significant\n"
   ]
  },
  {
   "cell_type": "markdown",
   "metadata": {
    "_uuid": "9f29fa3003e7fc145f7d89c614446b2afafb3ccb",
    "colab_type": "text",
    "id": "8IcPuUIjsHft"
   },
   "source": [
    "### 5.\tSplit dataset into train and test (70:30) (5 marks)\n",
    "a.\tAre both train and test representative of the overall data? How would you ascertain this statistically?\n"
   ]
  },
  {
   "cell_type": "code",
   "execution_count": 48,
   "metadata": {
    "colab": {},
    "colab_type": "code",
    "id": "4xjjTOolsHfv"
   },
   "outputs": [],
   "source": [
    "X=df.drop(\"Class Values\",axis=1)\n",
    "y=df[\"Class Values\"]\n",
    "from sklearn.model_selection import train_test_split\n",
    "xtrain,xtest,ytrain,ytest=train_test_split(X,y,test_size=0.25,stratify=y)\n",
    "\n"
   ]
  },
  {
   "cell_type": "code",
   "execution_count": 49,
   "metadata": {},
   "outputs": [
    {
     "data": {
      "text/plain": [
       "<matplotlib.axes._subplots.AxesSubplot at 0x7fbee2c0e630>"
      ]
     },
     "execution_count": 49,
     "metadata": {},
     "output_type": "execute_result"
    },
    {
     "data": {
      "image/png": "[encoded data removed]",
      "text/plain": [
       "<Figure size 432x288 with 1 Axes>"
      ]
     },
     "metadata": {
      "needs_background": "light"
     },
     "output_type": "display_data"
    }
   ],
   "source": [
    "\n",
    "#H0:Both samples come from the same population(same distribution)\n",
    "#H1:Both samples follow different distribution\n",
    "import scipy.stats as stats\n",
    "stats.ttest_ind(ytrain,ytest)\n",
    "#Since pvalue is more than 0.05 we fail to reject the null hypothesis and safely conclude\n",
    "#that Both samples come from the same distribution\n",
    "\n",
    "#This can be seen graphically\n",
    "sns.distplot(ytrain)\n",
    "sns.distplot(ytest)\n",
    "sns.distplot(y)"
   ]
  },
  {
   "cell_type": "markdown",
   "metadata": {
    "_uuid": "2fcd4a30b10e5bf2f390190e6f3ac1c86ebc43b0",
    "colab_type": "text",
    "id": "3dv6fAu2sHf0"
   },
   "source": [
    "### 6.\tFit a base model and explain the reason of selecting that model. Please write your key observations (15 marks) \n",
    "\n",
    "a.\tWhat is the overall Accuracy? Please comment on whether it is good or not. \n",
    "\n",
    "b.\tWhat is Precision, Recall and F1 Score and what will be the optimization objective keeping in mind the problem statement.\n",
    "\n",
    "c.\tWhich variables are significant?\n",
    "\n",
    "d.\tWhat is Cohen’s Kappa Value and what inference do you make from the model\n",
    "e.\tWhich other key model output parameters do you want to look at? \n"
   ]
  },
  {
   "cell_type": "code",
   "execution_count": 94,
   "metadata": {},
   "outputs": [],
   "source": [
    "from sklearn.metrics import accuracy_score,classification_report,r2_score,roc_auc_score,cohen_kappa_score,f1_score"
   ]
  },
  {
   "cell_type": "code",
   "execution_count": 53,
   "metadata": {
    "colab": {},
    "colab_type": "code",
    "id": "U4XP6IkesHf1"
   },
   "outputs": [
    {
     "name": "stdout",
     "output_type": "stream",
     "text": [
      "0.8472222222222222\n"
     ]
    }
   ],
   "source": [
    "#We select Logistic regression to be the base model since it is appropriate for biomial classification ad is a simple model\n",
    "#In our model we meet the assumptions required for Logistic regression, i.e. there's no multicollinearity,absence of autocorrelation\n",
    "#and so we can select this model\n",
    "#a \n",
    "from sklearn.linear_model import LogisticRegression\n",
    "log=LogisticRegression()\n",
    "log.fit(xtrain,ytrain)\n",
    "pred=log.predict(xtest)\n",
    "print(accuracy_score(ytest,pred))\n",
    "#This accuracy seems good but it cant be relied upon since it only tells us total correct prediction out of overall predictions\n",
    "#But it may be possible that the model predicts one class better than the other class.\n",
    "#So we cat totally rely upon accuracy score"
   ]
  },
  {
   "cell_type": "code",
   "execution_count": 126,
   "metadata": {},
   "outputs": [
    {
     "name": "stdout",
     "output_type": "stream",
     "text": [
      "0.7692307692307692\n",
      "              precision    recall  f1-score   support\n",
      "\n",
      "           0       0.93      0.84      0.89       303\n",
      "           1       0.70      0.85      0.77       129\n",
      "\n",
      "    accuracy                           0.85       432\n",
      "   macro avg       0.82      0.85      0.83       432\n",
      "weighted avg       0.86      0.85      0.85       432\n",
      "\n"
     ]
    }
   ],
   "source": [
    "print(f1_score(ytest,pred))\n",
    "#Such low r2_score clearly shows there is huge difference between precision and recall\n",
    "#Precision tells us proportion of positives correctly identified among the overall positives\n",
    "#Recall tells us proportion of positives correctly predicted out of overall actual positives\n",
    "#This can be seen in classification report\n",
    "print(classification_report(ytest,pred))\n",
    "#We need to improve our model predictions for the positive class 1. It appears model is able to well predict 0 class\n",
    "#but not class 1 due to data imbalance(less data of class 1).\n",
    "#So optimization objective is to increase precision and recall for positive class\n",
    "#So we can use SMOTE to upsample the minority class"
   ]
  },
  {
   "cell_type": "code",
   "execution_count": 64,
   "metadata": {},
   "outputs": [
    {
     "name": "stdout",
     "output_type": "stream",
     "text": [
      "Reject the null Hypothesis. target is dependent on Buying\n",
      "Reject the null Hypothesis. target is dependent on Maint\n",
      "Reject the null Hypothesis. target is dependent on Doors\n",
      "Reject the null Hypothesis. target is dependent on Persons\n",
      "Reject the null Hypothesis. target is dependent on Lug_boot\n",
      "Reject the null Hypothesis. target is dependent on Safety\n"
     ]
    }
   ],
   "source": [
    "#c\n",
    "#H0: Both colums are independent\n",
    "#H1: Both columns are dependent\n",
    "from scipy.stats import chi2_contingency\n",
    "\n",
    "for i in df.drop(\"Class Values\",axis=1).columns:\n",
    "    tbl=pd.crosstab(df[i],df[\"Class Values\"])\n",
    "    stat,pval,dof,exp=chi2_contingency(tbl)\n",
    "    if pval<0.05:\n",
    "        print(\"Reject the null Hypothesis. target is dependent on\",i)\n",
    "    else:\n",
    "        print(\"Fail to reject the null Hypothesis. target is NOT dependent on\",i)\n",
    "\n",
    "#As we can see, all the columns are have relation with the target that is statistically significant"
   ]
  },
  {
   "cell_type": "code",
   "execution_count": 63,
   "metadata": {},
   "outputs": [
    {
     "name": "stdout",
     "output_type": "stream",
     "text": [
      "0.804282753856781\n",
      "0.6252661462029808\n"
     ]
    }
   ],
   "source": [
    "#d\n",
    "print(roc_auc_score(ytest,pred))  #This shows difference between true positives and false positives is high\n",
    "print(cohen_kappa_score(ytest,pred)) #This tells us the inter rater reliability. Thus the reliabiloty is good\n"
   ]
  },
  {
   "cell_type": "markdown",
   "metadata": {
    "_uuid": "1d74e48a7d887524399923f72b0d138c53e6f791",
    "colab_type": "text",
    "id": "BAL5sg-5sHf6"
   },
   "source": [
    "### 7.\tHow do you improve overall efficiency of the model? Write clearly the changes that you will make before re-fitting the model. Fit the final model. (20 marks)\n",
    "Please feel free to have any number of iterations to get to the final answer. Marks are awarded based on the quality of final model you are able to achieve. \n"
   ]
  },
  {
   "cell_type": "code",
   "execution_count": 84,
   "metadata": {
    "colab": {},
    "colab_type": "code",
    "id": "8AyAgaQgsHf7"
   },
   "outputs": [],
   "source": [
    "from imblearn.over_sampling import SMOTE\n",
    "sm=SMOTE()\n",
    "xtrain_sm,ytrain_sm=sm.fit_sample(xtrain,ytrain)"
   ]
  },
  {
   "cell_type": "code",
   "execution_count": 85,
   "metadata": {},
   "outputs": [
    {
     "data": {
      "text/plain": [
       "1    907\n",
       "0    907\n",
       "Name: Class Values, dtype: int64"
      ]
     },
     "execution_count": 85,
     "metadata": {},
     "output_type": "execute_result"
    }
   ],
   "source": [
    "ytrain_sm.value_counts()"
   ]
  },
  {
   "cell_type": "code",
   "execution_count": 125,
   "metadata": {},
   "outputs": [
    {
     "name": "stdout",
     "output_type": "stream",
     "text": [
      "0.8472222222222222\n",
      "0.7692307692307692\n"
     ]
    }
   ],
   "source": [
    "log=LogisticRegression()\n",
    "log.fit(xtrain_sm,ytrain_sm)\n",
    "pred=log.predict(xtest)\n",
    "print(accuracy_score(ytest,pred))\n",
    "print(f1_score(ytest,pred))\n",
    "\n",
    "#No sigificant increase in f1_Score by SMOTE\n"
   ]
  },
  {
   "cell_type": "code",
   "execution_count": 107,
   "metadata": {},
   "outputs": [
    {
     "name": "stdout",
     "output_type": "stream",
     "text": [
      "0.7181887817551507\n",
      "[0.54117647 0.76439791 0.8        0.77948718 0.70588235]\n"
     ]
    }
   ],
   "source": [
    "import numpy as np\n",
    "from sklearn.model_selection import cross_val_score\n",
    "print(np.mean(cross_val_score(log,X,y,cv=5,scoring=\"f1\")))\n",
    "print((cross_val_score(log,X,y,cv=5,scoring=\"f1\")))\n",
    "\n",
    "\n",
    "#By using the cross validation we dont have to split our data into train and test set, thus we can utilise our whole data\n",
    "#We can also see that f1 score on first fold is low compared to all other scores indicating potential anomalies here"
   ]
  },
  {
   "cell_type": "code",
   "execution_count": 108,
   "metadata": {},
   "outputs": [
    {
     "name": "stdout",
     "output_type": "stream",
     "text": [
      "0.6916125351767921\n",
      "[0.19130435 0.77248677 0.79787234 0.75144509 0.94495413]\n"
     ]
    }
   ],
   "source": [
    "#Let us try fitting a more complex model\n",
    "from sklearn.naive_bayes import GaussianNB\n",
    "gnb=GaussianNB()\n",
    "print(np.mean(cross_val_score(gnb,X,y,cv=5,scoring=\"f1\")))\n",
    "print((cross_val_score(gnb,X,y,cv=5,scoring=\"f1\")))\n",
    "#The accuracy reduces to0.69 so Naive bayes isnt very effective perhaps because it has an assumption that\n",
    "#data is normally dstributed, and this is not true about the our data"
   ]
  },
  {
   "cell_type": "code",
   "execution_count": 110,
   "metadata": {},
   "outputs": [
    {
     "name": "stdout",
     "output_type": "stream",
     "text": [
      "0.8092845449868188\n"
     ]
    }
   ],
   "source": [
    "#Lets now go for ensemble models bagging which have an edge over basic classifiers\n",
    "from sklearn.ensemble import RandomForestClassifier\n",
    "rf=RandomForestClassifier()\n",
    "print(np.mean(cross_val_score(rf,X,y,cv=5,scoring=\"f1\")))\n",
    "#As expected the f1 score increases to 0.81"
   ]
  },
  {
   "cell_type": "code",
   "execution_count": 122,
   "metadata": {},
   "outputs": [
    {
     "name": "stdout",
     "output_type": "stream",
     "text": [
      "<class 'pandas.core.frame.DataFrame'>\n",
      "RangeIndex: 1728 entries, 0 to 1727\n",
      "Data columns (total 7 columns):\n",
      "Buying          1728 non-null int64\n",
      "Maint           1728 non-null int64\n",
      "Doors           1728 non-null int64\n",
      "Persons         1728 non-null int64\n",
      "Lug_boot        1728 non-null int64\n",
      "Safety          1728 non-null int64\n",
      "Class Values    1728 non-null int64\n",
      "dtypes: int64(7)\n",
      "memory usage: 94.6 KB\n"
     ]
    }
   ],
   "source": [
    "df[\"Doors\"]=df[\"Doors\"].astype(int)\n",
    "df[\"Persons\"]=df[\"Persons\"].astype(int)\n",
    "df.info()\n",
    "y=df[\"Class Values\"]\n",
    "X=df.drop(\"Class Values\",axis=1)"
   ]
  },
  {
   "cell_type": "code",
   "execution_count": 124,
   "metadata": {},
   "outputs": [
    {
     "name": "stdout",
     "output_type": "stream",
     "text": [
      "0.8940224443847867\n"
     ]
    }
   ],
   "source": [
    "#Lets try a boosting technique as our final model\n",
    "from lightgbm import LGBMClassifier\n",
    "lgb=LGBMClassifier()\n",
    "print(np.mean(cross_val_score(lgb,X,y,cv=5,scoring=\"f1\")))\n",
    "# Thus f1 score is 89% on our final lightgbm model"
   ]
  },
  {
   "cell_type": "code",
   "execution_count": 130,
   "metadata": {},
   "outputs": [
    {
     "name": "stdout",
     "output_type": "stream",
     "text": [
      "0.7266990291262136\n",
      "0.8295079768882454\n"
     ]
    }
   ],
   "source": [
    "print(np.mean(cross_val_score(rf,X,y,cv=5,scoring=\"recall\")))\n",
    "print(np.mean(cross_val_score(rf,X,y,cv=5,scoring=\"precision\")))"
   ]
  },
  {
   "cell_type": "markdown",
   "metadata": {
    "colab_type": "text",
    "id": "Ra9Z-kXlsHgA"
   },
   "source": [
    "### 8.\tSummarize as follows (10 marks) \n",
    "\n",
    "1.\tSummarize the overall fit of the model and list down the measures to prove that it is a good model\n",
    "\n",
    "2.\tWrite down a business interpretation/explanation of the model – which variables are affecting the target the most and explain the relationship. Feel free to use charts or graphs to explain.\n",
    "\n",
    "3.\tWhat changes from the base model had the most effect on model performance?\n",
    "\n",
    "4.\tWhat are the key risks to your results and interpretation?\n"
   ]
  },
  {
   "cell_type": "raw",
   "metadata": {
    "colab": {},
    "colab_type": "code",
    "id": "e3KjSLSGsHgB"
   },
   "source": [
    "1. The overall fit of the model is good. This can be said because of multiple reasons:\n",
    "First, we have tested our model on different folds of our data usig cross validation instead of train test split,\n",
    "which assures us of fairly good performance of our model on different folds of the data.\n",
    "Second, we tried SMOTE technique to handle imbalance in our data but it was not very useful\n",
    "Third, we tried different models which confirmed that our accuracy was similar on different models and improved with model\n",
    "complexity\n",
    "\n",
    "\n"
   ]
  },
  {
   "cell_type": "code",
   "execution_count": 127,
   "metadata": {},
   "outputs": [
    {
     "name": "stdout",
     "output_type": "stream",
     "text": [
      "Buying 1.7095876176351842e-16\n",
      "Maint 7.546204594041803e-14\n",
      "Doors 0.035258836859245066\n",
      "Persons 3.910942687357585e-81\n",
      "Lug_boot 4.129051779512971e-07\n",
      "Safety 8.608143726275976e-87\n"
     ]
    }
   ],
   "source": [
    "#2\n",
    "for i in df.drop(\"Class Values\",axis=1).columns:\n",
    "    tbl=pd.crosstab(df[i],df[\"Class Values\"])\n",
    "    stat,pval,dof,exp=chi2_contingency(tbl)\n",
    "    print(i,pval)\n",
    "    \n",
    "#Since safety and Persons have lowest pvalue these are the most significant variables in determining the target."
   ]
  },
  {
   "cell_type": "code",
   "execution_count": 128,
   "metadata": {},
   "outputs": [
    {
     "data": {
      "text/plain": [
       "<Figure size 432x288 with 0 Axes>"
      ]
     },
     "metadata": {},
     "output_type": "display_data"
    },
    {
     "data": {
      "image/png": "[encoded data removed]",
      "text/plain": [
       "<Figure size 432x288 with 1 Axes>"
      ]
     },
     "metadata": {
      "needs_background": "light"
     },
     "output_type": "display_data"
    },
    {
     "data": {
      "text/plain": [
       "<Figure size 432x288 with 0 Axes>"
      ]
     },
     "metadata": {},
     "output_type": "display_data"
    },
    {
     "data": {
      "image/png": "[encoded data removed]",
      "text/plain": [
       "<Figure size 432x288 with 1 Axes>"
      ]
     },
     "metadata": {
      "needs_background": "light"
     },
     "output_type": "display_data"
    },
    {
     "data": {
      "text/plain": [
       "<Figure size 432x288 with 0 Axes>"
      ]
     },
     "metadata": {},
     "output_type": "display_data"
    },
    {
     "data": {
      "image/png": "[encoded data removed]",
      "text/plain": [
       "<Figure size 432x288 with 1 Axes>"
      ]
     },
     "metadata": {
      "needs_background": "light"
     },
     "output_type": "display_data"
    },
    {
     "data": {
      "text/plain": [
       "<Figure size 432x288 with 0 Axes>"
      ]
     },
     "metadata": {},
     "output_type": "display_data"
    },
    {
     "data": {
      "image/png": "[encoded data removed]",
      "text/plain": [
       "<Figure size 432x288 with 1 Axes>"
      ]
     },
     "metadata": {
      "needs_background": "light"
     },
     "output_type": "display_data"
    },
    {
     "data": {
      "text/plain": [
       "<Figure size 432x288 with 0 Axes>"
      ]
     },
     "metadata": {},
     "output_type": "display_data"
    },
    {
     "data": {
      "image/png": "[encoded data removed]",
      "text/plain": [
       "<Figure size 432x288 with 1 Axes>"
      ]
     },
     "metadata": {
      "needs_background": "light"
     },
     "output_type": "display_data"
    },
    {
     "data": {
      "text/plain": [
       "<Figure size 432x288 with 0 Axes>"
      ]
     },
     "metadata": {},
     "output_type": "display_data"
    },
    {
     "data": {
      "image/png": "[encoded data removed]",
      "text/plain": [
       "<Figure size 432x288 with 1 Axes>"
      ]
     },
     "metadata": {
      "needs_background": "light"
     },
     "output_type": "display_data"
    }
   ],
   "source": [
    "for i in df.drop(\"Class Values\",axis=1).columns:\n",
    "    plt.tight_layout()\n",
    "    pd.crosstab(df[i],df[\"Class Values\"]).plot(kind=\"bar\")\n",
    "    plt.show()\n",
    "    \n",
    "# Cars with high or very high buying prices  and mainitenance have low acceptability\n",
    "#Acceptability for cars having 2 doors is the least\n",
    "#For a car to be acceptable it must be able to accomodate atleast 4 or more people\n",
    "#Car acceptability increases with lug_boot size\n",
    "#For a car to be acceptable, it must have medium to high safety level"
   ]
  },
  {
   "cell_type": "raw",
   "metadata": {},
   "source": [
    "#3 From the base model, primarily two things helped\n",
    "First was using cross validation which obviated the need for train test split which had caused data reduction in the initial model.\n",
    "Second, SMOTE was applied but it didnt work well\n",
    "Third, by increasing the model complexity and using different models we were able to achibve better accuracy with our accuracy and f1 score being highest on bagging(random forest) and boosting(light gbm) classifiers\n",
    "\n",
    "#4\n",
    "The key risks to our results and interpretations maybe due to less data. The model performance may change if we have more data and that too of different variety for both the classes.\n",
    "Further, we need test data from similar distribution. If the new data follows different distribution then again our\n",
    "model performance would decrease. It may perform well on the train set but not well on the validation or test set.\n",
    "Our precision recall is still different even though better than on the base models. This means we need more variety of data\n",
    "and more balanced data.\n",
    "\n"
   ]
  }
 ],
 "metadata": {
  "colab": {
   "collapsed_sections": [],
   "name": "SLC_70_MARKS_SET_9_EXAM_PAPER.ipynb",
   "provenance": []
  },
  "kernelspec": {
   "display_name": "Python 3 (ipykernel)",
   "language": "python",
   "name": "python3"
  },
  "language_info": {
   "codemirror_mode": {
    "name": "ipython",
    "version": 3
   },
   "file_extension": ".py",
   "mimetype": "text/x-python",
   "name": "python",
   "nbconvert_exporter": "python",
   "pygments_lexer": "ipython3",
   "version": "3.9.7"
  }
 },
 "nbformat": 4,
 "nbformat_minor": 1
}
